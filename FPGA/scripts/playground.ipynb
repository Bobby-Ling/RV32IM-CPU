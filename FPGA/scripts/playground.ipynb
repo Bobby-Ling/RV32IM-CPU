{
 "cells": [
  {
   "cell_type": "code",
   "execution_count": 7,
   "metadata": {},
   "outputs": [],
   "source": [
    "import os\n",
    "def exec_cmd(cmd):  \n",
    "    r = os.popen(cmd)  \n",
    "    text = r.read()  \n",
    "    r.close()  \n",
    "    return text  "
   ]
  },
  {
   "cell_type": "code",
   "execution_count": 1,
   "metadata": {},
   "outputs": [
    {
     "data": {
      "text/plain": [
       "0"
      ]
     },
     "execution_count": 1,
     "metadata": {},
     "output_type": "execute_result"
    }
   ],
   "source": [
    "\n",
    "stages = [\"IF\", \"ID\", \"EX\", \"MEM\", \"WB\"]\n",
    "# ['IF_ID', 'ID_EX', 'EX_MEM', 'MEM_WB']\n",
    "pipelines = [f\"{stages[i]}_{stages[i+1]}\" for i in range (len(stages)-1)]"
   ]
  },
  {
   "cell_type": "code",
   "execution_count": 11,
   "metadata": {},
   "outputs": [
    {
     "name": "stdout",
     "output_type": "stream",
     "text": [
      "/c/Users/bobby/DATA/Git/MyProjects/RV32IM-CPU/FPGA/scripts/Pipelined-CPU-Generator\n",
      "\n"
     ]
    }
   ],
   "source": [
    "import os\n",
    "# os.chdir(\"Pipelined-CPU-Generator\")\n",
    "print(exec_cmd(\"pwd\"))"
   ]
  },
  {
   "cell_type": "code",
   "execution_count": 9,
   "metadata": {},
   "outputs": [
    {
     "name": "stdout",
     "output_type": "stream",
     "text": [
      "git mv include/PipelineInterface_IF_ID_Inst.vh include/generated/PipelineInterface_IF_ID_Inst.vh\n",
      "\n",
      "git mv include/PipelineInterface_ID_EX_Inst.vh include/generated/PipelineInterface_ID_EX_Inst.vh\n",
      "\n",
      "git mv include/PipelineInterface_EX_MEM_Inst.vh include/generated/PipelineInterface_EX_MEM_Inst.vh\n",
      "\n",
      "git mv include/PipelineInterface_MEM_WB_Inst.vh include/generated/PipelineInterface_MEM_WB_Inst.vh\n",
      "\n"
     ]
    }
   ],
   "source": [
    "for i, pipeline in enumerate(pipelines):\n",
    "    cmd = f\"git mv include/PipelineInterface_{pipeline}_Inst.vh include/generated/PipelineInterface_{pipeline}_Inst.vh\"\n",
    "    print(cmd)\n",
    "    print(exec_cmd(cmd))"
   ]
  },
  {
   "cell_type": "code",
   "execution_count": 12,
   "metadata": {},
   "outputs": [
    {
     "name": "stdout",
     "output_type": "stream",
     "text": [
      "git mv PipelineInterface_IF_ID.v generated/PipelineInterface_IF_ID.v\n",
      "\n",
      "git mv PipelineInterface_ID_EX.v generated/PipelineInterface_ID_EX.v\n",
      "\n",
      "git mv PipelineInterface_EX_MEM.v generated/PipelineInterface_EX_MEM.v\n",
      "\n",
      "git mv PipelineInterface_MEM_WB.v generated/PipelineInterface_MEM_WB.v\n",
      "\n"
     ]
    }
   ],
   "source": [
    "for i, pipeline in enumerate(pipelines):\n",
    "    cmd = f\"git mv PipelineInterface_{pipeline}.v generated/PipelineInterface_{pipeline}.v\"\n",
    "    print(cmd)\n",
    "    print(execCmd(cmd))"
   ]
  },
  {
   "cell_type": "code",
   "execution_count": 2,
   "metadata": {},
   "outputs": [
    {
     "name": "stdout",
     "output_type": "stream",
     "text": [
      "单元格 R66 的公式: =IF(LEN(R67)>1,LEFT(R67,LEN(R67)-1),\"\")\n",
      "单元格 R66 的值: ~F30&~F25&~F14& F13&~F12&~OP6& OP5& OP4&~OP3&~OP2& OP1& OP0+~F30&~F25&~F14& F13& F12&~OP6& OP5& OP4&~OP3&~OP2& OP1& OP0+~F30&~F25& F14&~F13&~F12&~OP6& OP5& OP4&~OP3&~OP2& OP1& OP0+~F30&~F25& F14& F13&~F12&~OP6& OP5& OP4&~OP3&~OP2& OP1& OP0+~F14& F13&~F12&~OP6&~OP5& OP4&~OP3&~OP2& OP1& OP0+~F14& F13& F12&~OP6&~OP5& OP4&~OP3&~OP2& OP1& OP0+ F14&~F13&~F12&~OP6&~OP5& OP4&~OP3&~OP2& OP1& OP0+ F14& F13&~F12&~OP6&~OP5& OP4&~OP3&~OP2& OP1& OP0+~F14&~F13&~F12& OP6& OP5&~OP4&~OP3&~OP2& OP1& OP0+~F14&~F13& F12& OP6& OP5&~OP4&~OP3&~OP2& OP1& OP0+ F14&~F13&~F12& OP6& OP5&~OP4&~OP3&~OP2& OP1& OP0+ F14&~F13& F12& OP6& OP5&~OP4&~OP3&~OP2& OP1& OP0+ F14& F13&~F12& OP6& OP5&~OP4&~OP3&~OP2& OP1& OP0+ F14& F13& F12& OP6& OP5&~OP4&~OP3&~OP2& OP1& OP0\n"
     ]
    }
   ],
   "source": [
    "import openpyxl\n",
    "\n",
    "# 加载 Excel 文件\n",
    "file_path = 'Controller-Generator/RISC-V单周期硬布线控制器表达式自动生成（2022-8-19）RV32IM - FullOpcode.xlsx'\n",
    "workbook = openpyxl.load_workbook(file_path, data_only=False)  # data_only=False to read formulas\n",
    "\n",
    "# 选择工作表\n",
    "sheet_name = '控制信号表达式生成'  # 你要读取的工作表名称\n",
    "sheet = workbook[sheet_name]\n",
    "\n",
    "# 读取指定单元格\n",
    "cell = sheet['R66']  # 指定单元格的位置\n",
    "\n",
    "# 获取单元格的公式和值\n",
    "formula = cell.value  # 公式或值取决于data_only参数\n",
    "workbook_data_only = openpyxl.load_workbook(file_path, data_only=True)\n",
    "value = workbook_data_only[sheet_name]['R66'].value  # 获取计算后的值\n",
    "\n",
    "# 输出结果\n",
    "print(f\"单元格 R66 的公式: {formula}\")\n",
    "print(f\"单元格 R66 的值: {value}\")\n"
   ]
  }
 ],
 "metadata": {
  "kernelspec": {
   "display_name": "Python 3",
   "language": "python",
   "name": "python3"
  },
  "language_info": {
   "codemirror_mode": {
    "name": "ipython",
    "version": 3
   },
   "file_extension": ".py",
   "mimetype": "text/x-python",
   "name": "python",
   "nbconvert_exporter": "python",
   "pygments_lexer": "ipython3",
   "version": "3.12.4"
  }
 },
 "nbformat": 4,
 "nbformat_minor": 2
}
